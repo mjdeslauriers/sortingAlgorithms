{
 "cells": [
  {
   "cell_type": "code",
   "execution_count": 52,
   "metadata": {},
   "outputs": [
    {
     "name": "stdout",
     "output_type": "stream",
     "text": [
      "0.40117788314819336\n"
     ]
    }
   ],
   "source": [
    "# quickSort algorithm \n",
    "\n",
    "import random, time\n",
    "\n",
    "def swap(list, i, j):\n",
    "    iVal = list[i]\n",
    "    jVal = list[j]\n",
    "    list[i] = jVal\n",
    "    list[j] = iVal\n",
    "    return list\n",
    "\n",
    "def QuickSort(list):\n",
    "    \n",
    "    if(len(list) <= 1):\n",
    "        return list\n",
    "    \n",
    "    pivotIndex = 0\n",
    "    pivot = list[pivotIndex]\n",
    "    \n",
    "    last = len(list) \n",
    "    i = 1\n",
    "    while(i < last - 1):\n",
    "        if list[i] >= pivot:\n",
    "            last = last - 1\n",
    "            list = swap(list, i, last)\n",
    "        else:\n",
    "            i = i + 1\n",
    "    if list[i] >= pivot:\n",
    "        last = last - 1\n",
    "    last = last - 1\n",
    "    list = swap(list, 0, last)\n",
    "    \n",
    "    list1 = list[0 : last + 1]\n",
    "    list2 = list[last + 1 : len(list)]\n",
    "    \n",
    "    list1 = QuickSort(list1)\n",
    "    list2 = QuickSort(list2)\n",
    "    \n",
    "    return list1 + list2\n",
    "\n",
    "testList = [int(random.random() * 10) for x in range(10000)]\n",
    "testList = [x for x in range(10000)]\n",
    "sTime = time.time()\n",
    "testList = QuickSort(testList)\n",
    "fTime = time.time()\n",
    "eTime = fTime - sTime\n",
    "print(eTime)"
   ]
  },
  {
   "cell_type": "code",
   "execution_count": 1,
   "metadata": {},
   "outputs": [
    {
     "name": "stdout",
     "output_type": "stream",
     "text": [
      "[1, 2, 2, 3, 4, 5, 6]\n",
      "2\n",
      "[1, 2, 3, 3, 4, 5, 5, 6, 8, 12, 32, 34, 43, 54, 555, 3453]\n",
      "added to commit for testing purposes\n"
     ]
    }
   ],
   "source": [
    "#implement merge sort \n",
    "\n",
    "def mergeSort(list):\n",
    "    lenL = len(list)\n",
    "    if(lenL == 1):\n",
    "        return list\n",
    "    mid = round(lenL / 2)\n",
    "    l1 = list[0:mid]\n",
    "    l2 = list[mid: lenL]\n",
    "    sortedL1 = mergeSort(l1)\n",
    "    sortedL2 = mergeSort(l2)\n",
    "    sortedList = merge(sortedL1, sortedL2)\n",
    "    return sortedList\n",
    "    \n",
    "def merge(l1, l2):\n",
    "    newL = []\n",
    "    i = 0\n",
    "    j = 0\n",
    "    len1 = len(l1)\n",
    "    len2 = len(l2)\n",
    "    while(i < len1 and j < len2):\n",
    "        n1 = l1[i]\n",
    "        n2 = l2[j]\n",
    "        if(n1 <= n2):\n",
    "            newL.append(n1)\n",
    "            i+=1\n",
    "        else:\n",
    "            newL.append(n2)\n",
    "            j+=1\n",
    "            \n",
    "    while(i < len1):\n",
    "        n1 = l1[i]\n",
    "        newL.append(n1)\n",
    "        i+=1\n",
    "        \n",
    "    while(j < len2):\n",
    "        n2 = l2[j]\n",
    "        newL.append(n2)\n",
    "        j+=1\n",
    "            \n",
    "    return newL\n",
    "    \n",
    "toSort = [2, 3, 1, 5, 6, 8, 4, 12, 43 ,32, 3, 5, 555, 54, 3453, 34]\n",
    "l1 = [1,2, 4, 6]\n",
    "l2 = [2,3, 5]\n",
    "new = merge(l1, l2)\n",
    "print(new)\n",
    "i = round(5/2)\n",
    "print(i)\n",
    "\n",
    "sorted = mergeSort(toSort)\n",
    "print(sorted)\n",
    "print('added to commit for testing purposes')"
   ]
  },
  {
   "cell_type": "code",
   "execution_count": null,
   "metadata": {},
   "outputs": [],
   "source": []
  }
 ],
 "metadata": {
  "kernelspec": {
   "display_name": "Python 3",
   "language": "python",
   "name": "python3"
  },
  "language_info": {
   "codemirror_mode": {
    "name": "ipython",
    "version": 3
   },
   "file_extension": ".py",
   "mimetype": "text/x-python",
   "name": "python",
   "nbconvert_exporter": "python",
   "pygments_lexer": "ipython3",
   "version": "3.7.6"
  }
 },
 "nbformat": 4,
 "nbformat_minor": 2
}
