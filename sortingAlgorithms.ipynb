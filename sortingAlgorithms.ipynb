{
 "cells": [
  {
   "cell_type": "code",
   "execution_count": 5,
   "metadata": {},
   "outputs": [
    {
     "name": "stdout",
     "output_type": "stream",
     "text": [
      "0.4249608516693115\n"
     ]
    }
   ],
   "source": [
    "# quickSort algorithm \n",
    "\n",
    "import random, time\n",
    "\n",
    "def swap(list, i, j):\n",
    "    iVal = list[i]\n",
    "    jVal = list[j]\n",
    "    list[i] = jVal\n",
    "    list[j] = iVal\n",
    "    return list\n",
    "\n",
    "def QuickSort(list):\n",
    "    \n",
    "    if(len(list) <= 1):\n",
    "        return list\n",
    "    \n",
    "    pivotIndex = 0\n",
    "    pivot = list[pivotIndex]\n",
    "    \n",
    "    last = len(list) \n",
    "    i = 1\n",
    "    while(i < last - 1):\n",
    "        if list[i] >= pivot:\n",
    "            last = last - 1\n",
    "            list = swap(list, i, last)\n",
    "        else:\n",
    "            i = i + 1\n",
    "    if list[i] >= pivot:\n",
    "        last = last - 1\n",
    "    last = last - 1\n",
    "    list = swap(list, 0, last)\n",
    "    \n",
    "    list1 = list[0 : last + 1]\n",
    "    list2 = list[last + 1 : len(list)]\n",
    "    \n",
    "    list1 = QuickSort(list1)\n",
    "    list2 = QuickSort(list2)\n",
    "    \n",
    "    return list1 + list2\n",
    "\n",
    "testList = [int(random.random() * 10) for x in range(10000)]\n",
    "testList = [x for x in range(10000)]\n",
    "sTime = time.time()\n",
    "testList = QuickSort(testList)\n",
    "fTime = time.time()\n",
    "eTime = fTime - sTime\n",
    "print(eTime)"
   ]
  },
  {
   "cell_type": "code",
   "execution_count": 6,
   "metadata": {},
   "outputs": [],
   "source": [
    "#implement merge sort \n",
    "\n",
    "def mergeSort(list):\n",
    "    lenL = len(list)\n",
    "    if(lenL == 1):\n",
    "        return list\n",
    "    mid = round(lenL / 2)\n",
    "    l1 = list[0:mid]\n",
    "    l2 = list[mid: lenL]\n",
    "    sortedL1 = mergeSort(l1)\n",
    "    sortedL2 = mergeSort(l2)\n",
    "    sortedList = merge(sortedL1, sortedL2)\n",
    "    return sortedList\n",
    "    \n",
    "def merge(l1, l2):\n",
    "    newL = []\n",
    "    i = 0\n",
    "    j = 0\n",
    "    len1 = len(l1)\n",
    "    len2 = len(l2)\n",
    "    while(i < len1 and j < len2):\n",
    "        n1 = l1[i]\n",
    "        n2 = l2[j]\n",
    "        if(n1 <= n2):\n",
    "            newL.append(n1)\n",
    "            i+=1\n",
    "        else:\n",
    "            newL.append(n2)\n",
    "            j+=1\n",
    "            \n",
    "    while(i < len1):\n",
    "        n1 = l1[i]\n",
    "        newL.append(n1)\n",
    "        i+=1\n",
    "        \n",
    "    while(j < len2):\n",
    "        n2 = l2[j]\n",
    "        newL.append(n2)\n",
    "        j+=1\n",
    "            \n",
    "    return newL\n",
    "    \n"
   ]
  },
  {
   "cell_type": "code",
   "execution_count": 8,
   "metadata": {},
   "outputs": [
    {
     "name": "stdout",
     "output_type": "stream",
     "text": [
      "original list [631, 993, 498, 711, 612, 281, 79, 497, 62, 659, 56, 286, 1, 6, 595, 320, 202, 917, 248, 118, 586, 895, 577, 898, 921, 411, 316, 836, 559, 945, 441, 514, 895, 280, 187, 480, 504, 799, 179, 293, 483, 181, 965, 720, 285, 636, 49, 255, 956, 829, 607, 515, 364, 784, 670, 83, 634, 670, 857, 312, 603, 150, 924, 855, 946, 898, 175, 635, 69, 582, 688, 196, 146, 500, 636, 553, 654, 844, 645, 293, 841, 937, 848, 235, 156, 502, 824, 662, 68, 733, 873, 608, 126, 821, 790, 705, 584, 917, 609, 776]\n",
      "unsorted list is sorted:  False\n",
      "sorted list is sorted:  True\n",
      "sorted list:  [1, 6, 49, 56, 62, 68, 69, 79, 83, 118, 126, 146, 150, 156, 175, 179, 181, 187, 196, 202, 235, 248, 255, 280, 281, 285, 286, 293, 293, 312, 316, 320, 364, 411, 441, 480, 483, 497, 498, 500, 502, 504, 514, 515, 553, 559, 577, 582, 584, 586, 595, 603, 607, 608, 609, 612, 631, 634, 635, 636, 636, 645, 654, 659, 662, 670, 670, 688, 705, 711, 720, 733, 776, 784, 790, 799, 821, 824, 829, 836, 841, 844, 848, 855, 857, 873, 895, 895, 898, 898, 917, 917, 921, 924, 937, 945, 946, 956, 965, 993]\n"
     ]
    }
   ],
   "source": [
    "import random, time\n",
    "\n",
    "def isSorted(list):\n",
    "    i = 0 \n",
    "    penultimateIndex = len(list) - 2\n",
    "    while(i <= penultimateIndex):\n",
    "        if(list[i] > list[i+1]):\n",
    "            return False\n",
    "        i+=1\n",
    "    return True\n",
    "\n",
    "testList = [round(random.random() * 1000) for x in range(100)]\n",
    "print('original list', testList)\n",
    "sortedL = mergeSort(testList)\n",
    "print('unsorted list is sorted: ', isSorted(testList))\n",
    "print('sorted list is sorted: ', isSorted(sortedL))\n",
    "print('sorted list: ', sortedL)\n"
   ]
  },
  {
   "cell_type": "code",
   "execution_count": null,
   "metadata": {},
   "outputs": [],
   "source": []
  }
 ],
 "metadata": {
  "kernelspec": {
   "display_name": "Python 3",
   "language": "python",
   "name": "python3"
  },
  "language_info": {
   "codemirror_mode": {
    "name": "ipython",
    "version": 3
   },
   "file_extension": ".py",
   "mimetype": "text/x-python",
   "name": "python",
   "nbconvert_exporter": "python",
   "pygments_lexer": "ipython3",
   "version": "3.7.6"
  }
 },
 "nbformat": 4,
 "nbformat_minor": 2
}
